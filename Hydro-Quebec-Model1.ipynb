{
 "cells": [
  {
   "cell_type": "code",
   "execution_count": 45,
   "metadata": {},
   "outputs": [],
   "source": [
    "import gurobipy as gb \n",
    "from gurobipy import *\n",
    "import pandas as pd\n",
    "import numpy as np\n",
    "import warnings\n",
    "warnings.filterwarnings('ignore')"
   ]
  },
  {
   "cell_type": "code",
   "execution_count": 46,
   "metadata": {},
   "outputs": [],
   "source": [
    "#Supply Data\n",
    "supply_input = pd.read_excel('code_input_supply.xlsx')\n",
    "supply_input['Capacity'] = supply_input['Capacity']*24*30\n",
    "\n",
    "plant_names = supply_input['Name'].tolist()\n",
    "capacity = supply_input['Capacity'].tolist()\n",
    "year_of_construction = supply_input['Year'].tolist()"
   ]
  },
  {
   "cell_type": "code",
   "execution_count": 47,
   "metadata": {},
   "outputs": [],
   "source": [
    "#Distance Data\n",
    "distance_input = pd.read_excel('code_input_distance.xlsx')\n",
    "pivot_table = distance_input.pivot(index='station_name', columns='muni_name', values='normalized_distance')\n",
    "distance_matrix = pivot_table.values.tolist()"
   ]
  },
  {
   "cell_type": "code",
   "execution_count": 48,
   "metadata": {},
   "outputs": [],
   "source": [
    "#Data Prep for Demand Data\n",
    "\n",
    "demand_base = pd.read_excel('code_input_demand.xlsx')\n",
    "\n",
    "#Demand Projection for 2024 based on 2020 demand - 11% growth from 2020 to 2024\n",
    "\n",
    "#For the Municipalities which have data in 2020\n",
    "\n",
    "demand_base2020 = demand_base[demand_base['Year'] == 2020]\n",
    "grouped_df = demand_base2020.groupby(['Municipality', 'Year', 'Month'])\n",
    "sum_consumption = grouped_df['Total Consumption (MWh)'].sum()\n",
    "sum_consumption = sum_consumption.reset_index()\n",
    "sum_consumption = sum_consumption.rename(columns={'Total Consumption (MWh)': 'Demand'})\n",
    "average_demand = sum_consumption.groupby(['Municipality', 'Month'])['Demand'].mean()\n",
    "average_demand = average_demand.reset_index()\n",
    "average_demand = average_demand.groupby('Municipality').filter(lambda x: len(x) == 12)\n",
    "\n",
    "#For other municipalities we will use their average demand\n",
    "\n",
    "demand_base_others = demand_base[~demand_base['Municipality'].isin(average_demand['Municipality'])]\n",
    "demand_base_others = demand_base_others[demand_base_others['Year'] != 2023]\n",
    "grouped_df2 = demand_base_others.groupby(['Municipality', 'Year', 'Month'])\n",
    "sum_consumption2 = grouped_df2['Total Consumption (MWh)'].sum()\n",
    "sum_consumption2 = sum_consumption2.reset_index()\n",
    "sum_consumption2 = sum_consumption2.rename(columns={'Total Consumption (MWh)': 'Demand'})\n",
    "average_demand2 = sum_consumption2.groupby(['Municipality', 'Month'])['Demand'].mean()\n",
    "average_demand2 = average_demand2.reset_index()\n",
    "\n",
    "expected_demand = pd.concat([average_demand, average_demand2])\n",
    "expected_demand = expected_demand.sort_values(by=['Municipality', 'Month'])\n",
    "expected_demand['Demand'] = expected_demand['Demand']*1.11\n",
    "expected_demand['Demand'] = np.ceil(expected_demand['Demand'])\n",
    "\n",
    "expected_demand.sort_values(by=['Municipality', 'Month'], inplace=True)\n",
    "city_names = expected_demand['Municipality'].unique().tolist()\n",
    "\n",
    "demand_matrix = expected_demand.pivot(index='Municipality', columns='Month', values='Demand')\n",
    "demand_matrix = demand_matrix.values.tolist()"
   ]
  },
  {
   "cell_type": "code",
   "execution_count": 49,
   "metadata": {},
   "outputs": [],
   "source": [
    "prob = gb.Model(\"Power Grid Optimization - Model 1\")\n",
    "prob.params.LogToConsole = 0\n",
    "\n",
    "month_names = ['Jan', 'Feb', 'Mar', 'Apr', 'May', 'Jun', 'Jul', 'Aug', 'Sep', 'Oct','Nov','Dec']\n",
    "\n",
    "I = len(plant_names)\n",
    "J = len(city_names)\n",
    "K = len(month_names)"
   ]
  },
  {
   "cell_type": "code",
   "execution_count": 50,
   "metadata": {},
   "outputs": [],
   "source": [
    "# Decision Variables\n",
    "\n",
    "x = prob.addVars(I, J, K, vtype=GRB.CONTINUOUS, name=[f'Power from {i} to {j} in {k}' for i in plant_names for j in city_names for k in month_names])\n",
    "p = prob.addVars(I, K, vtype=GRB.CONTINUOUS, name=[f'Power generated at {i} in {k}' for i in plant_names for k in month_names])"
   ]
  },
  {
   "cell_type": "code",
   "execution_count": 51,
   "metadata": {},
   "outputs": [
    {
     "name": "stdout",
     "output_type": "stream",
     "text": [
      "Objective Function Created\n"
     ]
    }
   ],
   "source": [
    "#Objective function Formulation\n",
    "\n",
    "#1. Minimize the total cost of power generation\n",
    "\n",
    "production_cost_val = 3.456 #Cost of power generation per MWh\n",
    "\n",
    "cost_power_generation = sum(production_cost_val*p[i,k] for i in range(I) for k in range(K))\n",
    "\n",
    "#2. Minimize the total loss from transmission across the network\n",
    "\n",
    "dist_loss = sum(x[i,j,k]*(0.08+0.07*distance_matrix[i][j]) for i in range(I) for j in range(J) for k in range(K))\n",
    "cost_dist_loss = production_cost_val*dist_loss\n",
    "\n",
    "total_cost_factor = cost_power_generation + cost_dist_loss\n",
    "\n",
    "#4. Depreciation factor for operating power plants - Not an objective of the model, but added to prioritize newer plants\n",
    "\n",
    "deprec_factor = sum((2024 - year_of_construction[i])*0.015*p[i,k] for i in range(I) for k in range(K))\n",
    "\n",
    "prob.setObjectiveN(total_cost_factor, index=0, priority=2)\n",
    "prob.setObjectiveN(deprec_factor, index=1, priority=1)\n",
    "\n",
    "prob.modelSense = GRB.MINIMIZE\n",
    "\n",
    "#prob.setObjective(total_cost_factor, GRB.MINIMIZE)\n",
    "\n",
    "print(\"Objective Function Created\")"
   ]
  },
  {
   "cell_type": "code",
   "execution_count": 52,
   "metadata": {},
   "outputs": [
    {
     "name": "stdout",
     "output_type": "stream",
     "text": [
      "7412 Constraints added to the model\n"
     ]
    }
   ],
   "source": [
    "#Constraints\n",
    "\n",
    "constr_count = 0\n",
    "\n",
    "#1. Power plants cannot run at more than 80% capacity and only if it is turned on\n",
    "prob.addConstrs(p[i,k] <= 0.8*capacity[i] for i in range(I) for k in range(K))\n",
    "constr_count += I*K\n",
    "\n",
    "#2. Total Production must be atleast 20% higher than the demand in each month\n",
    "prob.addConstrs(sum(p[i,k] for i in range(I)) >= 1.2*sum(demand_matrix[j][k] for j in range(J)) for k in range(K))\n",
    "constr_count += K\n",
    "\n",
    "#3. Cannot distribute more than produced in each month\n",
    "prob.addConstrs(sum(x[i,j,k] for j in range(J)) <= p[i,k] for i in range(I) for k in range(K))\n",
    "constr_count += I*K\n",
    "\n",
    "#4. Distribution - Losses must be equal to demand\n",
    "prob.addConstrs(sum((x[i,j,k] - (x[i,j,k]*(0.08+0.07*distance_matrix[i][j]))) for i in range(I)) == demand_matrix[j][k] for j in range(J) for k in range(K))\n",
    "constr_count += J*K\n",
    "\n",
    "#5. Avoid irregular changes in power generation across months\n",
    "prob.addConstrs(p[i,k] - p[i,k-1] <= 0.2*capacity[i] for i in range(I) for k in range(1,K))\n",
    "prob.addConstrs(p[i,k] - p[i,k-1] >= -0.2*capacity[i] for i in range(I) for k in range(1,K))\n",
    "constr_count += 2*I*(K-1)\n",
    "\n",
    "print(f\"{constr_count} Constraints added to the model\")\n"
   ]
  },
  {
   "cell_type": "code",
   "execution_count": 53,
   "metadata": {},
   "outputs": [
    {
     "name": "stdout",
     "output_type": "stream",
     "text": [
      "Optimal Solution Found\n"
     ]
    }
   ],
   "source": [
    "prob.optimize()\n",
    "if prob.status == GRB.OPTIMAL:\n",
    "    print(\"Optimal Solution Found\")\n",
    "else:\n",
    "    print(\"No Optimal Solution Found\")"
   ]
  },
  {
   "cell_type": "code",
   "execution_count": 54,
   "metadata": {},
   "outputs": [],
   "source": [
    "# Monthly Power Generation Plan for each Plant\n",
    "\n",
    "monthly_operation_plan = pd.DataFrame(columns=['Plant', 'Month', 'Power Generated (MWh)'])\n",
    "\n",
    "for i in range(I):\n",
    "    for k in range(K):\n",
    "        monthly_operation_plan = pd.concat([monthly_operation_plan, pd.DataFrame({'Plant': plant_names[i], 'Month': month_names[k], 'Power Generated (MWh)': p[i,k].x}, index=[0])])\n",
    "\n",
    "monthly_operation_plan['Power Generated (MWh)'] = np.ceil(monthly_operation_plan['Power Generated (MWh)'])\n",
    "\n",
    "monthly_operating_capacity = monthly_operation_plan.copy()\n",
    "monthly_operating_capacity = pd.merge(monthly_operating_capacity, supply_input[['Name', 'Capacity']], left_on='Plant', right_on='Name', how='left')\n",
    "monthly_operating_capacity['% Operating Capacity'] = np.round(100*monthly_operating_capacity['Power Generated (MWh)']/monthly_operating_capacity['Capacity'],2)\n",
    "monthly_operating_capacity.drop(columns=['Name','Power Generated (MWh)'], inplace=True)\n",
    "\n",
    "monthly_operation_plan_df = pd.pivot_table(monthly_operation_plan, values='Power Generated (MWh)', index='Plant', columns='Month').reindex(columns=month_names).reset_index()\n",
    "monthly_operating_capacity_df = pd.pivot_table(monthly_operating_capacity, values='% Operating Capacity', index='Plant', columns='Month').reindex(columns=month_names).reset_index()\n",
    "\n",
    "with pd.ExcelWriter('PowerGrid_Operation_Plan.xlsx') as writer:\n",
    "    monthly_operating_capacity_df.to_excel(writer, sheet_name='Operating Capacity', index=False)\n",
    "    monthly_operation_plan_df.to_excel(writer, sheet_name='Power Generation', index=False)"
   ]
  },
  {
   "cell_type": "code",
   "execution_count": 55,
   "metadata": {},
   "outputs": [],
   "source": [
    "# Monthly Power Distribution Plan for each Plant\n",
    "\n",
    "monthly_distribution_plan = pd.DataFrame(columns=['Plant', 'City', 'Month', 'Power Distributed (MWh)'])\n",
    "\n",
    "for i in range(I):\n",
    "    for j in range(J):\n",
    "        for k in range(K):\n",
    "            if x[i,j,k].x > 0:\n",
    "                monthly_distribution_plan = pd.concat([monthly_distribution_plan, pd.DataFrame({'Plant': plant_names[i], 'City': city_names[j], 'Month': month_names[k], 'Power Distributed (MWh)': x[i,j,k].x - (x[i,j,k].x*(0.08+0.07*distance_matrix[i][j]))}, index=[0])])\n",
    "\n",
    "monthly_distribution_plan_t = distance_input[['muni_name','station_name']]\n",
    "monthly_distribution_plan_t.columns = ['City','Plant']\n",
    "month_df = pd.DataFrame({'Month': month_names})\n",
    "monthly_distribution_plan_t['key'] = 1\n",
    "month_df['key'] = 1\n",
    "monthly_distribution_plan_t = pd.merge(monthly_distribution_plan_t, month_df, on='key').drop('key', axis=1)\n",
    "monthly_distribution_plan_t = pd.merge(monthly_distribution_plan_t, monthly_distribution_plan, on=['Plant', 'City', 'Month'], how='left')\n",
    "monthly_distribution_plan_t['Power Distributed (MWh)'] = monthly_distribution_plan_t['Power Distributed (MWh)'].fillna(0)\n",
    "monthly_distribution_plan_t['Power Distributed (MWh)'] = np.ceil(monthly_distribution_plan_t['Power Distributed (MWh)'])\n",
    "\n",
    "monthly_distribution_plan_df = pd.pivot_table(monthly_distribution_plan_t, values='Power Distributed (MWh)', index=['City','Plant'], columns='Month').reindex(columns=month_names).reset_index()\n",
    "monthly_distribution_plan_df['Total Distribution'] = monthly_distribution_plan_df.loc[:, 'Jan':'Dec'].sum(axis=1)\n",
    "monthly_distribution_plan_df = monthly_distribution_plan_df.loc[monthly_distribution_plan_df['Total Distribution']>0]\n",
    "monthly_distribution_plan_df.drop(columns=['Total Distribution'], inplace=True)\n",
    "\n",
    "# Monthly Demand Fulfilment Matrix\n",
    "\n",
    "expected_demand_monthly = expected_demand.copy()\n",
    "month_mapping = {1: 'Jan', 2: 'Feb', 3: 'Mar', 4: 'Apr', 5: 'May', 6: 'Jun', 7: 'Jul', 8: 'Aug', 9: 'Sep', 10: 'Oct', 11: 'Nov', 12: 'Dec'}\n",
    "expected_demand_monthly['Month'] = expected_demand_monthly['Month'].map(month_mapping)\n",
    "expected_demand_monthly.columns=['City','Month','Demand']\n",
    "\n",
    "monthly_demand_fulfilment = monthly_distribution_plan_t.copy()\n",
    "monthly_demand_fulfilment = pd.merge(monthly_demand_fulfilment, expected_demand_monthly, how='left')\n",
    "monthly_demand_fulfilment['% Fulfilled'] = np.round(100*monthly_demand_fulfilment['Power Distributed (MWh)']/monthly_demand_fulfilment['Demand'],0)\n",
    "\n",
    "monthly_demand_fulfilment_df = pd.pivot_table(monthly_demand_fulfilment, values='% Fulfilled', index=['City','Plant'], columns='Month').reindex(columns=month_names).reset_index()\n",
    "monthly_demand_fulfilment_df['Total Demand Fulfilled'] = monthly_demand_fulfilment_df.loc[:, 'Jan':'Dec'].sum(axis=1)\n",
    "monthly_demand_fulfilment_df = monthly_demand_fulfilment_df.loc[monthly_demand_fulfilment_df['Total Demand Fulfilled']>0]\n",
    "monthly_demand_fulfilment_df.drop(columns=['Total Demand Fulfilled'], inplace=True)\n",
    "\n",
    "with pd.ExcelWriter('PowerGrid_Distribution_Plan.xlsx') as writer:\n",
    "    monthly_demand_fulfilment_df.to_excel(writer, sheet_name='Demand Fulfilment', index=False)\n",
    "    monthly_distribution_plan_df.to_excel(writer, sheet_name='Distribution Plan', index=False)"
   ]
  }
 ],
 "metadata": {
  "kernelspec": {
   "display_name": "base",
   "language": "python",
   "name": "python3"
  },
  "language_info": {
   "codemirror_mode": {
    "name": "ipython",
    "version": 3
   },
   "file_extension": ".py",
   "mimetype": "text/x-python",
   "name": "python",
   "nbconvert_exporter": "python",
   "pygments_lexer": "ipython3",
   "version": "3.11.3"
  }
 },
 "nbformat": 4,
 "nbformat_minor": 2
}
