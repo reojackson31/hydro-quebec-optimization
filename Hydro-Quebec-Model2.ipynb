{
 "cells": [
  {
   "cell_type": "code",
   "execution_count": 469,
   "metadata": {},
   "outputs": [],
   "source": [
    "import gurobipy as gb \n",
    "from gurobipy import *\n",
    "import pandas as pd\n",
    "import numpy as np\n",
    "import warnings\n",
    "warnings.filterwarnings('ignore')"
   ]
  },
  {
   "cell_type": "code",
   "execution_count": 470,
   "metadata": {},
   "outputs": [],
   "source": [
    "# Demand Projection Data\n",
    "\n",
    "demand_projection_data = pd.read_excel('code_input_demand_projection.xlsx')\n",
    "demand_projection = demand_projection_data[\"Demand\"].tolist()\n",
    "demand_years = demand_projection_data[\"Year\"].tolist()"
   ]
  },
  {
   "cell_type": "code",
   "execution_count": 471,
   "metadata": {},
   "outputs": [],
   "source": [
    "# Available Sources\n",
    "\n",
    "sources = ['Hydro', 'Wind', 'Nuclear', 'Geothermal', 'Biomass', 'Solar']\n",
    "\n",
    "emission = [0.028, 0.014, 0.008, 0.038, 0.23, 0.064]  #CO2 emissions per MWh\n",
    "\n",
    "setup_cost = [5316, 1265, 6191, 2521, 4097, 1313] #$/kW\n",
    "\n",
    "fixed_cost_kw = [29.86, 26.34, 95, 128.54, 125.72, 15.25] #$/kW/year  \n",
    "fixed_cost_mwh = [x*1000/(24*30*12) for x in fixed_cost_kw] #$/MWh/year\n",
    "\n",
    "var_cost_mwh_doc = [0, 0, 3, 1.16, 4.83, 0] #$/MWh/year\n",
    "\n",
    "var_cost_mwh = []\n",
    "for i in range(len(var_cost_mwh_doc)):\n",
    "    var_cost_mwh.append(var_cost_mwh_doc[i] + fixed_cost_mwh[i])\n",
    "\n",
    "\n",
    "supply_input = pd.read_excel('code_input_supply.xlsx')\n",
    "supply_input['Capacity'] = supply_input['Capacity']*24*30*12\n",
    "total_capacity_existing = sum(supply_input['Capacity'].tolist())"
   ]
  },
  {
   "cell_type": "code",
   "execution_count": 472,
   "metadata": {},
   "outputs": [],
   "source": [
    "prob = gb.Model(\"Power Grid Optimization - Model 2\")\n",
    "prob.params.LogToConsole = 0\n",
    "\n",
    "I = len(sources) #New power plants\n",
    "J = len(demand_years) #Year of construction of new power plants\n",
    "K = len(demand_years) #Year of Production"
   ]
  },
  {
   "cell_type": "code",
   "execution_count": 473,
   "metadata": {},
   "outputs": [],
   "source": [
    "# Decision Variables\n",
    "\n",
    "eh = prob.addVars(K, vtype=GRB.CONTINUOUS, name = [f\"Electricity generated using Existing Hydro Plants in {k}\" for k in demand_years])\n",
    "\n",
    "x = prob.addVars(I, J, K, vtype=GRB.CONTINUOUS, name = [f\"Qty of Electricity generated using {i} built in {j} in {k}\" for i in sources for j in demand_years for k in demand_years])\n",
    "\n",
    "c = prob.addVars(I, J, vtype=GRB.CONTINUOUS, name = [f\"Capacity of Power Plant {i} built in {j}\" for i in sources for j in demand_years])\n",
    "\n",
    "e = prob.addVars(K, vtype=GRB.CONTINUOUS, name = [f\"CO2 emission in {k}\" for k in demand_years])\n"
   ]
  },
  {
   "cell_type": "code",
   "execution_count": 474,
   "metadata": {},
   "outputs": [],
   "source": [
    "#Objective Function\n",
    "\n",
    "#1. Minimize the total cost of yearly power generation\n",
    "\n",
    "cost_existing = sum(eh[k]*var_cost_mwh[0] for k in range(K))\n",
    "cost_new = sum(x[i,j,k]*(var_cost_mwh[i] + var_cost_mwh[i]) for i in range(I) for j in range(J) for k in range(K))\n",
    "\n",
    "#2. Cost of setting up new plants\n",
    "\n",
    "cost_setup = sum((setup_cost[i]*1000)*c[i,j]/(24*30*12) for i in range(I) for j in range(J))\n",
    "\n",
    "total_cost_func = cost_existing + cost_new + cost_setup\n",
    "\n",
    "#3. Minimize the total CO2 emission\n",
    "\n",
    "total_emission = sum(e[k] for k in range(K))\n",
    "\n",
    "prob.setObjectiveN(total_emission, index=0, priority=2)\n",
    "prob.setObjectiveN(total_cost_func, index=1, priority=1)\n",
    "\n",
    "prob.modelSense = GRB.MINIMIZE"
   ]
  },
  {
   "cell_type": "code",
   "execution_count": 475,
   "metadata": {},
   "outputs": [
    {
     "name": "stdout",
     "output_type": "stream",
     "text": [
      "13257 constraints added to the model\n"
     ]
    }
   ],
   "source": [
    "#Constraints\n",
    "\n",
    "constr_count = 0\n",
    "\n",
    "#1. Power plants cannot run at more than 80% capacity\n",
    "prob.addConstrs(x[i,j,k]<=0.8*c[i,j] for i in range(I) for j in range(J) for k in range(J))\n",
    "prob.addConstrs(eh[k]<=0.8*total_capacity_existing for k in range(K))\n",
    "constr_count += I*J*K + K\n",
    "\n",
    "#2. Total Production each year must be atleast 35% higher than the demand in each month - to consider unexpected demand + transmission losses\n",
    "prob.addConstrs(sum(x[i,j,k] for i in range(I) for j in range(J)) + eh[k] == 1.35*demand_projection[k] for k in range(K))\n",
    "constr_count += K\n",
    "\n",
    "#3. A power plant can only generate electricity after it is built\n",
    "\n",
    "prob.addConstrs(x[i,j,k] <= c[i,j] for i in range(I) for j in range(J) for k in range(K) if j<=k)\n",
    "prob.addConstrs(x[i,j,k] == 0 for i in range(I) for j in range(J) for k in range(K) if j>k)\n",
    "constr_count += I*J*K + I*J*K\n",
    "\n",
    "#4. Definition of the emission variable\n",
    "\n",
    "prob.addConstrs(e[k] == sum(x[i,j,k]*emission[i] for i in range(I) for j in range(J)) + (eh[k]*emission[0]) for k in range(K))\n",
    "constr_count += K\n",
    "\n",
    "#5. Max investment that can be added in a year - assuming it is 4 billion dollars\n",
    "max_inv_cost = 4*10**9\n",
    "prob.addConstrs(sum((setup_cost[i]*1000)*c[i,j]/(24*30*12) for i in range(I))<= max_inv_cost for j in range(J))\n",
    "\n",
    "#6. Maximum Demand that can be met with wind should be less than 15% of the total demand\n",
    "prob.addConstrs(sum(x[1,j,k] for j in range(J)) <= 0.15*1.35*demand_projection[k] for k in range(K))\n",
    "constr_count += K\n",
    "\n",
    "#7. Atleast 70% of the total demand should be met with existing hydro plants\n",
    "prob.addConstrs(eh[k]  >= 0.7*1.35*demand_projection[k] for k in range(K))\n",
    "constr_count += K\n",
    "\n",
    "\n",
    "print(f\"{constr_count} constraints added to the model\")"
   ]
  },
  {
   "cell_type": "code",
   "execution_count": 476,
   "metadata": {},
   "outputs": [
    {
     "name": "stdout",
     "output_type": "stream",
     "text": [
      "Optimal Solution Found\n"
     ]
    }
   ],
   "source": [
    "prob.optimize()\n",
    "if prob.status == GRB.OPTIMAL:\n",
    "    print(\"Optimal Solution Found\")\n",
    "else:\n",
    "    print(\"No Optimal Solution Found\")"
   ]
  },
  {
   "cell_type": "code",
   "execution_count": 477,
   "metadata": {},
   "outputs": [
    {
     "name": "stdout",
     "output_type": "stream",
     "text": [
      "Total Expected Reduction in CO2 emission in 2050: 21.43%\n"
     ]
    }
   ],
   "source": [
    "#Print the Reduction in CO2 Emission in 2050\n",
    "\n",
    "print(f\"Total Expected Reduction in CO2 emission in 2050: {abs(round((e[26].x-1.35*demand_projection[26]*emission[0])*100/(1.35*demand_projection[26]*emission[0]), 2))}%\")"
   ]
  },
  {
   "cell_type": "code",
   "execution_count": 478,
   "metadata": {},
   "outputs": [],
   "source": [
    "# Construction Plan for New Power Plants\n",
    "\n",
    "construction_plan = pd.DataFrame(columns = ['Year', 'Power Plant', 'Capacity (MW)'])\n",
    "\n",
    "for i in range(I):\n",
    "    for j in range(J):\n",
    "        if c[i,j].x > 0:\n",
    "            construction_plan = pd.concat([construction_plan, pd.DataFrame({'Year': demand_years[j], 'Power Plant': sources[i], 'Capacity (MW)': c[i,j].x}, index=[0])], ignore_index=True)\n",
    "\n",
    "construction_plan['Capacity (MW)'] = np.ceil(construction_plan['Capacity (MW)']/(24*30*12))\n",
    "\n",
    "construction_plan_df = pd.pivot_table(construction_plan, values='Capacity (MW)', index=['Power Plant'], columns='Year', aggfunc=np.sum, fill_value=0).reset_index()\n",
    "construction_plan_df.rename(columns={'Power Plant':'Power Plant Capacity (in MW)'})\n",
    "\n",
    "# Investment Required for New Power Plants\n",
    "\n",
    "investment_plan = construction_plan.copy()\n",
    "investment_plan['Investment Required'] = 0\n",
    "investment_plan.loc[investment_plan['Power Plant'] == 'Hydro', 'Investment Required'] = investment_plan['Capacity (MW)']*setup_cost[0]*1000\n",
    "investment_plan.loc[investment_plan['Power Plant'] == 'Wind', 'Investment Required'] = investment_plan['Capacity (MW)']*setup_cost[1]*1000\n",
    "investment_plan.loc[investment_plan['Power Plant'] == 'Nuclear', 'Investment Required'] = investment_plan['Capacity (MW)']*setup_cost[2]*1000\n",
    "investment_plan.loc[investment_plan['Power Plant'] == 'Geothermal', 'Investment Required'] = investment_plan['Capacity (MW)']*setup_cost[3]*1000\n",
    "investment_plan.loc[investment_plan['Power Plant'] == 'Biomass', 'Investment Required'] = investment_plan['Capacity (MW)']*setup_cost[4]*1000\n",
    "investment_plan.loc[investment_plan['Power Plant'] == 'Solar', 'Investment Required'] = investment_plan['Capacity (MW)']*setup_cost[5]*1000\n",
    "\n",
    "investment_plan_df = pd.pivot_table(investment_plan, values='Investment Required', index=['Year'], aggfunc=np.sum, fill_value=0).reset_index()\n",
    "investment_plan_df['Investment Required'] = investment_plan_df['Investment Required']/1000000\n",
    "investment_plan_df.rename(columns={'Investment Required':'Investment Required (in Million $)'}, inplace=True)\n",
    "total_investment_required = investment_plan_df['Investment Required (in Million $)'].sum()\n",
    "investment_plan_df = investment_plan_df.append({'Year':'Total','Investment Required (in Million $)':total_investment_required}, ignore_index=True)\n",
    "\n",
    "with pd.ExcelWriter('NewPowerPlant_ConstructionPlan.xlsx') as writer:\n",
    "    investment_plan_df.to_excel(writer, sheet_name='Investment Required', index=False)\n",
    "    construction_plan_df.to_excel(writer, sheet_name='Construction Plan', index=False)"
   ]
  },
  {
   "cell_type": "code",
   "execution_count": 479,
   "metadata": {},
   "outputs": [],
   "source": [
    "# Power Generation from different sources\n",
    "\n",
    "power_generation_plan = pd.DataFrame(columns = ['Year', 'Power Plant', 'Electricity Generated (MWh)'])\n",
    "\n",
    "for i in range(I):\n",
    "    for j in range(J):\n",
    "        for k in range(K):\n",
    "            if x[i,j,k].x > 0:\n",
    "                power_generation_plan = pd.concat([power_generation_plan, pd.DataFrame({'Year': demand_years[k], 'Power Plant': sources[i], 'Electricity Generated (MWh)': x[i,j,k].x}, index=[0])], ignore_index=True)\n",
    "\n",
    "for k in range(K):\n",
    "    if eh[k].x > 0:\n",
    "        power_generation_plan = pd.concat([power_generation_plan, pd.DataFrame({'Year': demand_years[k], 'Power Plant': 'Existing Hydro', 'Electricity Generated (MWh)': eh[k].x}, index=[0])], ignore_index=True)\n",
    "\n",
    "power_generation_plan['Electricity Generated (MWh)'] = np.ceil(power_generation_plan['Electricity Generated (MWh)'])\n",
    "\n",
    "power_generation_plan_df = pd.pivot_table(power_generation_plan, values='Electricity Generated (MWh)', index=['Power Plant'], columns=['Year'], aggfunc=np.sum, fill_value=0).reset_index()\n",
    "\n",
    "power_generation_split_df = power_generation_plan_df.copy()\n",
    "power_generation_split_df.loc[:, 2024:] = np.round((power_generation_plan_df.loc[:, 2024:] / power_generation_plan_df.loc[:, 2024:].sum(axis=0)) * 100,1)\n",
    "\n",
    "with pd.ExcelWriter('PowerGeneration_Plan_2050.xlsx') as writer:\n",
    "    power_generation_split_df.to_excel(writer, sheet_name='Percentage Distribution ', index=False)\n",
    "    power_generation_plan_df.to_excel(writer, sheet_name='Power Generation', index=False)"
   ]
  }
 ],
 "metadata": {
  "kernelspec": {
   "display_name": "base",
   "language": "python",
   "name": "python3"
  },
  "language_info": {
   "codemirror_mode": {
    "name": "ipython",
    "version": 3
   },
   "file_extension": ".py",
   "mimetype": "text/x-python",
   "name": "python",
   "nbconvert_exporter": "python",
   "pygments_lexer": "ipython3",
   "version": "3.11.3"
  }
 },
 "nbformat": 4,
 "nbformat_minor": 2
}
